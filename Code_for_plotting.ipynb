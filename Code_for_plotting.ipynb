{
 "cells": [
  {
   "cell_type": "markdown",
   "id": "7d7a1bd4",
   "metadata": {},
   "source": [
    "# Useful Code pieces"
   ]
  },
  {
   "cell_type": "markdown",
   "id": "b732b0b1",
   "metadata": {},
   "source": [
    "## Used in Playing_with_Data 2.1"
   ]
  },
  {
   "cell_type": "code",
   "execution_count": null,
   "id": "8f33a8e2",
   "metadata": {},
   "outputs": [],
   "source": [
    "fig, ax = plt.subplots(2,1)\n",
    "fig.suptitle('Day vs Night H and LE',size=15)\n",
    "plt.tight_layout()\n",
    "\n",
    "ax1 = plt.subplot(211)\n",
    "dfE_day[0:32].plot(kind='line',x='time',y=['H','LE'],ax=ax1,\n",
    "             figsize=(9,6),grid=True,#xlim=(0,35),\n",
    "             ylabel='[W+1m-2]',legend=False,title='Daytime')\n",
    "ax2 = plt.subplot(212)\n",
    "dfE_night[0:32].plot(kind='line',x='time',y=['H','LE'],ax=ax2,\n",
    "             figsize=(9,6),grid=True,#xlim=(0,35),\n",
    "             ylabel='[W+1m-2]',legend=False,title='Nighttime')\n",
    "\n",
    "#Create a customizable legend --> idk \n",
    "lineH = mlines.Line2D([], [], color='tab:blue', markersize=3, label='H')\n",
    "lineLE = mlines.Line2D([], [], color='tab:orange', markersize=3, label='LE')\n",
    "fig.legend(handles=[lineH, lineLE]);"
   ]
  },
  {
   "cell_type": "code",
   "execution_count": null,
   "id": "64bb4aa4",
   "metadata": {},
   "outputs": [],
   "source": [
    "fig, ax = plt.subplots(2)\n",
    "fig.suptitle('Day vs Night',size=15)\n",
    "plt.tight_layout()\n",
    "\n",
    "ax1 = plt.subplot(211)\n",
    "plt.title('Sensible heat')\n",
    "dfE_day[0:100].plot(kind='scatter',x='DOY',y='H',ax=ax1,\n",
    "             figsize=(9,6),grid=True,#xlim=(0,35),\n",
    "             ylabel='[W+1m-2]',legend=True,color='tab:blue')\n",
    "dfE_night[0:100].plot(kind='scatter',x='DOY',y='H',ax=ax1,\n",
    "             figsize=(9,6),grid=True,#xlim=(0,35),\n",
    "             ylabel='[W+1m-2]',legend=True,color='tab:orange')\n",
    "\n",
    "ax2 = plt.subplot(212)\n",
    "plt.title('Latent heat')\n",
    "dfE_day[0:100].plot(kind='scatter',x='DOY',y='LE',ax=ax2,\n",
    "             figsize=(9,6),grid=True,#xlim=(0,35),\n",
    "             ylabel='[W+1m-2]',legend=True,color='tab:blue')\n",
    "dfE_night[0:100].plot(kind='scatter',x='DOY',y='LE',ax=ax2,\n",
    "             figsize=(9,6),grid=True,#xlim=(0,35),\n",
    "             ylabel='[W+1m-2]',legend=True,color='tab:orange')\n",
    "\n",
    "#Create a customizable legend\n",
    "day = mlines.Line2D([], [], color='tab:blue', markersize=3, label='day')\n",
    "night = mlines.Line2D([], [], color='tab:orange', markersize=3, label='night')\n",
    "fig.legend(handles=[day, night]);"
   ]
  }
 ],
 "metadata": {
  "kernelspec": {
   "display_name": "Python 3 (ipykernel)",
   "language": "python",
   "name": "python3"
  },
  "language_info": {
   "codemirror_mode": {
    "name": "ipython",
    "version": 3
   },
   "file_extension": ".py",
   "mimetype": "text/x-python",
   "name": "python",
   "nbconvert_exporter": "python",
   "pygments_lexer": "ipython3",
   "version": "3.9.7"
  },
  "toc": {
   "base_numbering": 1,
   "nav_menu": {},
   "number_sections": true,
   "sideBar": true,
   "skip_h1_title": false,
   "title_cell": "Table of Contents",
   "title_sidebar": "Contents",
   "toc_cell": false,
   "toc_position": {},
   "toc_section_display": true,
   "toc_window_display": false
  }
 },
 "nbformat": 4,
 "nbformat_minor": 5
}
